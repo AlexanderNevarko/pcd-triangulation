{
 "cells": [
  {
   "cell_type": "markdown",
   "metadata": {},
   "source": [
    "## Imports"
   ]
  },
  {
   "cell_type": "code",
   "execution_count": 1,
   "metadata": {},
   "outputs": [],
   "source": [
    "import matplotlib.pyplot as plt\n",
    "import numpy as np\n",
    "import scipy as sp\n",
    "import open3d as o3d\n",
    "import k3d\n",
    "import io\n",
    "import cv2\n",
    "import json"
   ]
  },
  {
   "cell_type": "markdown",
   "metadata": {},
   "source": [
    "## Data preprocessing\n",
    "Block of code about transforming the data from .mkv Azure Kinect files to depth and rgb pictures and video."
   ]
  },
  {
   "cell_type": "markdown",
   "metadata": {},
   "source": [
    "Extract data from .mkv file without Azure Kinect SDK"
   ]
  },
  {
   "cell_type": "code",
   "execution_count": 2,
   "metadata": {},
   "outputs": [],
   "source": [
    "# Extract depth images\n",
    "# !ffmpeg -i ../data/capture.mkv -map 0:1 -vsync 0 ../data/depth%04d.png"
   ]
  },
  {
   "cell_type": "code",
   "execution_count": 3,
   "metadata": {},
   "outputs": [],
   "source": [
    "# Extract rgb images\n",
    "# !ffmpeg -i ../data/capture.mkv -map 0:0 -vsync 0 ../data/color%04d.png"
   ]
  },
  {
   "cell_type": "code",
   "execution_count": 4,
   "metadata": {},
   "outputs": [],
   "source": [
    "# Extract IR (?) images\n",
    "# !ffmpeg -i ../data/capture.mkv -map 0:2 -vsync 0 ../data/ir%04d.png"
   ]
  },
  {
   "cell_type": "markdown",
   "metadata": {},
   "source": [
    "Load images and camera metadata parameters"
   ]
  },
  {
   "cell_type": "code",
   "execution_count": 2,
   "metadata": {},
   "outputs": [],
   "source": [
    "with open('data/mkv_meta.json') as f:\n",
    "    intrinsic_params = json.load(f)"
   ]
  },
  {
   "cell_type": "code",
   "execution_count": 3,
   "metadata": {},
   "outputs": [],
   "source": [
    "camera_intrinsic_params = {}\n",
    "tmp = intrinsic_params['depth_intrinsics'].copy()\n",
    "tmp.update(intrinsic_params['depth_resolution'].copy())\n",
    "camera_intrinsic_params['height'] = tmp['h']\n",
    "camera_intrinsic_params['width'] = tmp['w']\n",
    "camera_intrinsic_params['fx'] = tmp['fx']\n",
    "camera_intrinsic_params['fy'] = tmp['fy']\n",
    "camera_intrinsic_params['cx'] = tmp['cx']\n",
    "camera_intrinsic_params['cy'] = tmp['cy']"
   ]
  },
  {
   "cell_type": "code",
   "execution_count": 4,
   "metadata": {},
   "outputs": [],
   "source": [
    "# intrinsic_params"
   ]
  },
  {
   "cell_type": "code",
   "execution_count": 5,
   "metadata": {},
   "outputs": [
    {
     "name": "stdout",
     "output_type": "stream",
     "text": [
      "(576, 640) (1536, 2048, 3)\n"
     ]
    }
   ],
   "source": [
    "depth_img = cv2.imread('data/depth0177.png', -1)\n",
    "color_img = cv2.imread('data/color0177.png', -1)\n",
    "print(depth_img.shape, color_img.shape)"
   ]
  },
  {
   "cell_type": "markdown",
   "metadata": {},
   "source": [
    "## Experiments with rgb and depth images"
   ]
  },
  {
   "cell_type": "code",
   "execution_count": 9,
   "metadata": {},
   "outputs": [],
   "source": [
    "color_img_new = cv2.cvtColor(color_img, cv2.COLOR_BGR2GRAY)\n",
    "color_img_new = cv2.resize(color_img_new, depth_img.T.shape)\n",
    "color_img_new = cv2.transpose(color_img_new)"
   ]
  },
  {
   "cell_type": "code",
   "execution_count": 10,
   "metadata": {},
   "outputs": [
    {
     "data": {
      "text/plain": [
       "((640, 576), (576, 640))"
      ]
     },
     "execution_count": 10,
     "metadata": {},
     "output_type": "execute_result"
    }
   ],
   "source": [
    "color_img_new.shape, depth_img.shape"
   ]
  },
  {
   "cell_type": "code",
   "execution_count": 6,
   "metadata": {},
   "outputs": [
    {
     "data": {
      "text/plain": [
       "<matplotlib.image.AxesImage at 0x18e4c3880>"
      ]
     },
     "execution_count": 6,
     "metadata": {},
     "output_type": "execute_result"
    },
    {
     "data": {
      "image/png": "[encoded data removed]",
      "text/plain": [
       "<Figure size 432x288 with 1 Axes>"
      ]
     },
     "metadata": {
      "needs_background": "light"
     },
     "output_type": "display_data"
    }
   ],
   "source": [
    "depth_new = depth_img.copy()\n",
    "zero_mask = (depth_new == 0).astype(int)\n",
    "inv_mask = 1 - zero_mask\n",
    "plt.imshow(zero_mask)"
   ]
  },
  {
   "cell_type": "markdown",
   "metadata": {},
   "source": [
    "## Open3D\n",
    "Transform images to point clouds"
   ]
  },
  {
   "cell_type": "code",
   "execution_count": 7,
   "metadata": {},
   "outputs": [
    {
     "data": {
      "text/plain": [
       "{'height': 576,\n",
       " 'width': 640,\n",
       " 'fx': 505.05084228515625,\n",
       " 'fy': 504.9956359863281,\n",
       " 'cx': 338.0733642578125,\n",
       " 'cy': 338.06817626953125}"
      ]
     },
     "execution_count": 7,
     "metadata": {},
     "output_type": "execute_result"
    }
   ],
   "source": [
    "camera_intrinsic_params"
   ]
  },
  {
   "cell_type": "code",
   "execution_count": 11,
   "metadata": {},
   "outputs": [],
   "source": [
    "o3d_depth = o3d.geometry.Image(depth_img)\n",
    "o3d_rgb = o3d.geometry.Image(color_img_new)\n",
    "# camera_intrinsic = o3d.camera.PinholeCameraIntrinsic(\n",
    "#     o3d.camera.PinholeCameraIntrinsicParameters.Kinect2ColorCameraDefault)\n",
    "# camera_intrinsic = o3d.io.read_pinhole_camera_intrinsic('data/mkv_meta.json')\n",
    "camera_intrinsic = o3d.camera.PinholeCameraIntrinsic(**camera_intrinsic_params)"
   ]
  },
  {
   "cell_type": "code",
   "execution_count": 12,
   "metadata": {},
   "outputs": [],
   "source": [
    "# rgbd = o3d.geometry.RGBDImage.create_from_color_and_depth(o3d_rgb, o3d_depth)\n",
    "dpth = o3d.geometry.PointCloud.create_from_depth_image(o3d_depth, camera_intrinsic, stride=1)"
   ]
  },
  {
   "cell_type": "code",
   "execution_count": 13,
   "metadata": {},
   "outputs": [
    {
     "data": {
      "text/plain": [
       "(array([   0,  653,  701, ..., 4355, 4361, 5855], dtype=uint16),\n",
       " array([95715,     1,     1, ...,     1,     1,     1]))"
      ]
     },
     "execution_count": 13,
     "metadata": {},
     "output_type": "execute_result"
    }
   ],
   "source": [
    "# pcd = o3d.geometry.PointCloud.create_from_rgbd_image(rgbd, camera_intrinsic)\n",
    "dpth.transform([[1, 0, 0, 0], [0, -1, 0, 0], [0, 0, -1, 0], [0, 0, 0, 1]])\n",
    "np.unique(np.asarray(o3d_depth), return_counts=True)"
   ]
  },
  {
   "cell_type": "code",
   "execution_count": 14,
   "metadata": {},
   "outputs": [
    {
     "name": "stderr",
     "output_type": "stream",
     "text": [
      "/Users/aleksandr/miniconda/envs/kin/lib/python3.8/site-packages/traittypes/traittypes.py:97: UserWarning: Given trait value dtype \"float64\" does not match required type \"float32\". A coerced copy has been created.\n",
      "  warnings.warn(\n"
     ]
    },
    {
     "data": {
      "application/vnd.jupyter.widget-view+json": {
       "model_id": "87220ca763e24f4292bde6299c79463a",
       "version_major": 2,
       "version_minor": 0
      },
      "text/plain": [
       "Output()"
      ]
     },
     "metadata": {},
     "output_type": "display_data"
    }
   ],
   "source": [
    "k3d.points(np.asarray(dpth.points), point_size=0.005)"
   ]
  },
  {
   "cell_type": "code",
   "execution_count": 62,
   "metadata": {},
   "outputs": [],
   "source": [
    "pcd = o3d.io.read_point_cloud('data/depth0177.ply', print_progress=True)"
   ]
  },
  {
   "cell_type": "code",
   "execution_count": 13,
   "metadata": {},
   "outputs": [
    {
     "data": {
      "text/plain": [
       "272925"
      ]
     },
     "execution_count": 13,
     "metadata": {},
     "output_type": "execute_result"
    }
   ],
   "source": [
    "np.asarray(dpth.points).shape[0]"
   ]
  },
  {
   "cell_type": "code",
   "execution_count": 86,
   "metadata": {},
   "outputs": [
    {
     "ename": "NameError",
     "evalue": "name 'dpth' is not defined",
     "output_type": "error",
     "traceback": [
      "\u001b[0;31m---------------------------------------------------------------------------\u001b[0m",
      "\u001b[0;31mNameError\u001b[0m                                 Traceback (most recent call last)",
      "\u001b[0;32m<ipython-input-86-cf520283ce70>\u001b[0m in \u001b[0;36m<module>\u001b[0;34m\u001b[0m\n\u001b[0;32m----> 1\u001b[0;31m \u001b[0marr\u001b[0m \u001b[0;34m=\u001b[0m \u001b[0mdpth\u001b[0m\u001b[0;34m.\u001b[0m\u001b[0mcompute_nearest_neighbor_distance\u001b[0m\u001b[0;34m(\u001b[0m\u001b[0;34m)\u001b[0m\u001b[0;34m\u001b[0m\u001b[0;34m\u001b[0m\u001b[0m\n\u001b[0m\u001b[1;32m      2\u001b[0m \u001b[0mradii\u001b[0m \u001b[0;34m=\u001b[0m \u001b[0mnp\u001b[0m\u001b[0;34m.\u001b[0m\u001b[0masarray\u001b[0m\u001b[0;34m(\u001b[0m\u001b[0marr\u001b[0m\u001b[0;34m)\u001b[0m\u001b[0;34m.\u001b[0m\u001b[0mmean\u001b[0m\u001b[0;34m(\u001b[0m\u001b[0;34m)\u001b[0m\u001b[0;34m\u001b[0m\u001b[0;34m\u001b[0m\u001b[0m\n\u001b[1;32m      3\u001b[0m \u001b[0mradii\u001b[0m \u001b[0;34m*=\u001b[0m \u001b[0;36m3\u001b[0m\u001b[0;34m\u001b[0m\u001b[0;34m\u001b[0m\u001b[0m\n\u001b[1;32m      4\u001b[0m \u001b[0mradii\u001b[0m\u001b[0;34m\u001b[0m\u001b[0;34m\u001b[0m\u001b[0m\n",
      "\u001b[0;31mNameError\u001b[0m: name 'dpth' is not defined"
     ]
    }
   ],
   "source": [
    "arr = dpth.compute_nearest_neighbor_distance()\n",
    "radii = np.asarray(arr).mean()\n",
    "radii *= 3\n",
    "radii"
   ]
  },
  {
   "cell_type": "code",
   "execution_count": 15,
   "metadata": {},
   "outputs": [],
   "source": [
    "hull = dpth.compute_convex_hull()[0]"
   ]
  },
  {
   "cell_type": "code",
   "execution_count": 89,
   "metadata": {},
   "outputs": [
    {
     "ename": "RuntimeError",
     "evalue": "\u001b[1;31m[Open3D ERROR] [CreateFromPointCloudAlphaShape] invalid tetra in TetraMesh\u001b[0;m",
     "output_type": "error",
     "traceback": [
      "\u001b[0;31m---------------------------------------------------------------------------\u001b[0m",
      "\u001b[0;31mRuntimeError\u001b[0m                              Traceback (most recent call last)",
      "\u001b[0;32m<ipython-input-89-325c1e879e6f>\u001b[0m in \u001b[0;36m<module>\u001b[0;34m\u001b[0m\n\u001b[1;32m      2\u001b[0m \u001b[0mtetra\u001b[0m\u001b[0;34m,\u001b[0m \u001b[0mlst\u001b[0m \u001b[0;34m=\u001b[0m \u001b[0mo3d\u001b[0m\u001b[0;34m.\u001b[0m\u001b[0mgeometry\u001b[0m\u001b[0;34m.\u001b[0m\u001b[0mTetraMesh\u001b[0m\u001b[0;34m.\u001b[0m\u001b[0mcreate_from_point_cloud\u001b[0m\u001b[0;34m(\u001b[0m\u001b[0mdpth\u001b[0m\u001b[0;34m)\u001b[0m\u001b[0;34m\u001b[0m\u001b[0;34m\u001b[0m\u001b[0m\n\u001b[1;32m      3\u001b[0m \u001b[0;34m\u001b[0m\u001b[0m\n\u001b[0;32m----> 4\u001b[0;31m \u001b[0malpha_mesh\u001b[0m \u001b[0;34m=\u001b[0m \u001b[0mo3d\u001b[0m\u001b[0;34m.\u001b[0m\u001b[0mgeometry\u001b[0m\u001b[0;34m.\u001b[0m\u001b[0mTriangleMesh\u001b[0m\u001b[0;34m.\u001b[0m\u001b[0mcreate_from_point_cloud_alpha_shape\u001b[0m\u001b[0;34m(\u001b[0m\u001b[0mdpth\u001b[0m\u001b[0;34m,\u001b[0m \u001b[0;36m10000\u001b[0m\u001b[0;34m)\u001b[0m\u001b[0;34m\u001b[0m\u001b[0;34m\u001b[0m\u001b[0m\n\u001b[0m\u001b[1;32m      5\u001b[0m \u001b[0mk3d\u001b[0m\u001b[0;34m.\u001b[0m\u001b[0mmesh\u001b[0m\u001b[0;34m(\u001b[0m\u001b[0mnp\u001b[0m\u001b[0;34m.\u001b[0m\u001b[0masarray\u001b[0m\u001b[0;34m(\u001b[0m\u001b[0malpha_mesh\u001b[0m\u001b[0;34m.\u001b[0m\u001b[0mvertices\u001b[0m\u001b[0;34m)\u001b[0m\u001b[0;34m,\u001b[0m \u001b[0mnp\u001b[0m\u001b[0;34m.\u001b[0m\u001b[0masarray\u001b[0m\u001b[0;34m(\u001b[0m\u001b[0malpha_mesh\u001b[0m\u001b[0;34m.\u001b[0m\u001b[0mtetras\u001b[0m\u001b[0;34m)\u001b[0m\u001b[0;34m)\u001b[0m\u001b[0;34m\u001b[0m\u001b[0;34m\u001b[0m\u001b[0m\n\u001b[1;32m      6\u001b[0m \u001b[0;31m# k3d.points(np.asarray(dpth.points), point_size=0.005)\u001b[0m\u001b[0;34m\u001b[0m\u001b[0;34m\u001b[0m\u001b[0;34m\u001b[0m\u001b[0m\n",
      "\u001b[0;31mRuntimeError\u001b[0m: \u001b[1;31m[Open3D ERROR] [CreateFromPointCloudAlphaShape] invalid tetra in TetraMesh\u001b[0;m"
     ]
    }
   ],
   "source": [
    "# dpth.estimate_normals()\n",
    "# tetra, lst = o3d.geometry.TetraMesh.create_from_point_cloud(dpth)\n",
    "\n",
    "# alpha_mesh = o3d.geometry.TriangleMesh.create_from_point_cloud_alpha_shape(dpth, 10000)\n",
    "k3d.mesh(np.asarray(alpha_mesh.vertices), np.asarray(alpha_mesh.tetras))\n",
    "# k3d.points(np.asarray(dpth.points), point_size=0.005)"
   ]
  },
  {
   "cell_type": "code",
   "execution_count": 88,
   "metadata": {},
   "outputs": [
    {
     "data": {
      "text/plain": [
       "272925"
      ]
     },
     "execution_count": 88,
     "metadata": {},
     "output_type": "execute_result"
    }
   ],
   "source": [
    "len(lst)"
   ]
  },
  {
   "cell_type": "markdown",
   "metadata": {},
   "source": [
    "On the 2-nd coordinate we can clearly differentiate a person from the wall coordinates. Let's filter the wall out."
   ]
  },
  {
   "cell_type": "code",
   "execution_count": 21,
   "metadata": {},
   "outputs": [
    {
     "data": {
      "application/vnd.jupyter.widget-view+json": {
       "model_id": "a33c1b41df264c5db08c3093cfd66ace",
       "version_major": 2,
       "version_minor": 0
      },
      "text/plain": [
       "Output()"
      ]
     },
     "metadata": {},
     "output_type": "display_data"
    }
   ],
   "source": [
    "thresh = -1.8\n",
    "mask = np.asarray(pcd.points)[:, 2] > thresh\n",
    "new_pcd_array = np.asarray(pcd.points)[mask, :]\n",
    "\n",
    "new_pcd = pcd.select_by_index(np.argwhere(mask==True).squeeze())\n",
    "k3d.points(new_pcd.points, point_size = 0.005)"
   ]
  },
  {
   "cell_type": "code",
   "execution_count": 22,
   "metadata": {},
   "outputs": [],
   "source": [
    "# Estimate normals\n",
    "pcd.estimate_normals(\n",
    "    search_param=o3d.geometry.KDTreeSearchParamHybrid(radius=0.01, max_nn=30))"
   ]
  },
  {
   "cell_type": "code",
   "execution_count": 23,
   "metadata": {},
   "outputs": [],
   "source": [
    "dpth.estimate_normals(search_param=o3d.geometry.KDTreeSearchParamHybrid(radius=0.01, max_nn=30))"
   ]
  },
  {
   "cell_type": "code",
   "execution_count": 24,
   "metadata": {},
   "outputs": [],
   "source": [
    "# trm_poisson, _ = o3d.geometry.TriangleMesh.create_from_point_cloud_poisson(dpth, \n",
    "#                                                                            depth=9,\n",
    "#                                                                            width=0,\n",
    "#                                                                            linear_fit=True, \n",
    "#                                                                            n_threads=-1)\n",
    "trm_ball = o3d.geometry.TriangleMesh.create_from_point_cloud_ball_pivoting(dpth,\n",
    "                o3d.utility.DoubleVector(np.array([radii, radii*2])))"
   ]
  },
  {
   "cell_type": "code",
   "execution_count": 25,
   "metadata": {},
   "outputs": [
    {
     "name": "stderr",
     "output_type": "stream",
     "text": [
      "/Users/aleksandr/miniconda/envs/kin/lib/python3.8/site-packages/traittypes/traittypes.py:97: UserWarning: Given trait value dtype \"int32\" does not match required type \"uint32\". A coerced copy has been created.\n",
      "  warnings.warn(\n"
     ]
    },
    {
     "data": {
      "application/vnd.jupyter.widget-view+json": {
       "model_id": "08acff5021ca46c1b82cd3817a28aff0",
       "version_major": 2,
       "version_minor": 0
      },
      "text/plain": [
       "Output()"
      ]
     },
     "metadata": {},
     "output_type": "display_data"
    }
   ],
   "source": [
    "# kmesh = k3d.mesh(np.asarray(trm_poisson.vertices), np.asarray(trm_poisson.triangles))\n",
    "kmesh = k3d.mesh(np.asarray(trm_ball.vertices), np.asarray(trm_ball.triangles))\n",
    "kpoints = k3d.points(dpth.points, point_size=0.0015, color=0xff0000)\n",
    "plot = k3d.plot(name='trimesh and point cloud')\n",
    "plot += kmesh\n",
    "plot += kpoints\n",
    "kmesh.shader = '3d'\n",
    "kpoints.shader = '3d'\n",
    "plot.display()\n",
    "# tetra_mesh, _ = o3d.geometry.TetraMesh.create_from_point_cloud(pcd) \n",
    "# trm_"
   ]
  },
  {
   "cell_type": "code",
   "execution_count": 24,
   "metadata": {},
   "outputs": [
    {
     "data": {
      "text/plain": [
       "array([[0., 0., 0., ..., 0., 0., 0.],\n",
       "       [0., 0., 0., ..., 0., 0., 0.],\n",
       "       [0., 0., 0., ..., 0., 0., 0.],\n",
       "       ...,\n",
       "       [0., 0., 0., ..., 0., 0., 0.],\n",
       "       [0., 0., 0., ..., 0., 0., 0.],\n",
       "       [0., 0., 0., ..., 0., 0., 0.]])"
      ]
     },
     "execution_count": 24,
     "metadata": {},
     "output_type": "execute_result"
    }
   ],
   "source": [
    "np.asarray(o3d_depth).astype(float)"
   ]
  },
  {
   "cell_type": "code",
   "execution_count": 36,
   "metadata": {},
   "outputs": [
    {
     "data": {
      "text/plain": [
       "array([[     1,    145,    146],\n",
       "       [     1,     70,    145],\n",
       "       [     4,    150,     73],\n",
       "       ...,\n",
       "       [272031, 272388, 272743],\n",
       "       [272806, 272810, 272807],\n",
       "       [272876, 272520, 272878]], dtype=int32)"
      ]
     },
     "execution_count": 36,
     "metadata": {},
     "output_type": "execute_result"
    }
   ],
   "source": [
    "np.asarray(trm_ball.triangles)"
   ]
  },
  {
   "cell_type": "code",
   "execution_count": 39,
   "metadata": {},
   "outputs": [
    {
     "data": {
      "text/plain": [
       "array([[ 0.27250845,  1.88315641, -2.81299996],\n",
       "       [ 0.25598112,  1.87334675, -2.81500006],\n",
       "       [ 0.27367096,  1.88000162, -2.82500005]])"
      ]
     },
     "execution_count": 39,
     "metadata": {},
     "output_type": "execute_result"
    }
   ],
   "source": [
    "np.asarray(trm_ball.vertices)[[1, 145, 146]]"
   ]
  },
  {
   "cell_type": "code",
   "execution_count": 8,
   "metadata": {},
   "outputs": [
    {
     "data": {
      "text/plain": [
       "(array([   0,  653,  701, ..., 4355, 4361, 5855], dtype=uint16),\n",
       " array([95715,     1,     1, ...,     1,     1,     1]))"
      ]
     },
     "execution_count": 8,
     "metadata": {},
     "output_type": "execute_result"
    }
   ],
   "source": [
    "np.unique(depth_img, return_counts=True)"
   ]
  },
  {
   "cell_type": "code",
   "execution_count": 7,
   "metadata": {},
   "outputs": [
    {
     "data": {
      "text/plain": [
       "array([   0,  653,  701, ..., 4355, 4361, 5855], dtype=uint16)"
      ]
     },
     "execution_count": 7,
     "metadata": {},
     "output_type": "execute_result"
    }
   ],
   "source": [
    "np.unique(np.asarray(depth_img))"
   ]
  },
  {
   "cell_type": "markdown",
   "metadata": {},
   "source": [
    "## Own meshing function"
   ]
  },
  {
   "cell_type": "code",
   "execution_count": 200,
   "metadata": {},
   "outputs": [],
   "source": [
    "\n",
    "def fast_shift(arr, num, fill_value, axis):\n",
    "    '''\n",
    "        arr: array to shift\n",
    "        num: shift number\n",
    "        fill_value: value to fill shifted values\n",
    "        axis: axis to shift along\n",
    "    '''\n",
    "    #if axis not in (0, 1):\n",
    "     #   raise ValueError(f'Wring axis {axis}')\n",
    "    result = np.empty_like(arr)\n",
    "    if num > 0:\n",
    "        if axis == 0:\n",
    "            result[num:] = arr[:-num]\n",
    "            result[:num] = fill_value\n",
    "        else:\n",
    "            result[:, num:] = arr[:, :-num]\n",
    "            result[:, :num] = fill_value\n",
    "\n",
    "    elif num < 0:\n",
    "        if axis == 0:\n",
    "            result[:num] = arr[-num:]\n",
    "            result[num:] = fill_value\n",
    "        else:\n",
    "            result[:, :num] = arr[:, -num:]\n",
    "            result[:, num:] = fill_value\n",
    "    else:\n",
    "        result[:] = arr\n",
    "    return result\n",
    "\n",
    "def fast_make_points(depth, intr, extr=None):\n",
    "    # Depth map and intrinsic params\n",
    "    h, w = depth.shape\n",
    "    fx, fy = intr['fx'], intr['fy']\n",
    "    cx, cy = intr['cx'], intr['cx']\n",
    "    # Calculate xyz\n",
    "    non_zero = depth > 0\n",
    "    i, j = np.nonzero(non_zero)\n",
    "    z = depth[non_zero]\n",
    "    count_non_zero = i.shape[0]\n",
    "    u = (i - cx) * z / fx\n",
    "    v = (j - cy) * z / fy\n",
    "    pts = np.array([u, v, -z], dtype=np.float32).T\n",
    "    # Index the non-zero pixels\n",
    "    indices = np.arange(1, count_non_zero+1, 1, dtype=np.int_)\n",
    "    ids1 = np.zeros_like(depth, dtype=np.int32)\n",
    "    ids1[non_zero] = indices\n",
    "    \n",
    "    ids2 = fast_shift(ids1, num=1, fill_value=0, axis=0)\n",
    "    \n",
    "    ids3 = fast_shift(ids1, num=1, fill_value=0, axis=1)\n",
    "    \n",
    "    ids_tmp = fast_shift(ids1, num=1, fill_value=0, axis=0)\n",
    "    ids4 = fast_shift(ids_tmp, num=1, fill_value=0, axis=1)\n",
    "    \n",
    "    \n",
    "    # Construct triangles\n",
    "    mask1 = (ids1 < count_non_zero) * (ids1 > 0) \n",
    "    mask2 = (ids2 < count_non_zero) * (ids2 > 0)\n",
    "    mask3 = (ids3 < count_non_zero) * (ids3 > 0)\n",
    "    mask4 = (ids4 < count_non_zero) * (ids4 > 0)\n",
    "    upper_tri_mask = mask1 * mask2 * mask3\n",
    "    lower_tri_mask = mask2 * mask3 * mask4\n",
    "    upper_num = np.sum(upper_tri_mask)\n",
    "    lower_num = np.sum(lower_tri_mask)\n",
    "    # Collect into a single array\n",
    "    tri = np.empty((3, upper_num + lower_num), dtype=np.uint32)\n",
    "    \n",
    "    print(upper_num, lower_num)\n",
    "    tri[0, :upper_num]= ids1[upper_tri_mask]\n",
    "    tri[1, :upper_num]= ids2[upper_tri_mask]\n",
    "    tri[2, :upper_num]= ids3[upper_tri_mask]\n",
    "    \n",
    "    tri[0, upper_num:]= ids3[lower_tri_mask]\n",
    "    tri[1, upper_num:]= ids2[lower_tri_mask]\n",
    "    tri[2, upper_num:]= ids4[lower_tri_mask]\n",
    "    \n",
    "    tri = tri.T\n",
    "#     tri[:upper_num] = np.vstack([ids1[upper_tri_mask], \n",
    "#                                  ids2[upper_tri_mask], \n",
    "#                                  ids3[upper_tri_mask]]).T\n",
    "#     tri[upper_num:] = np.vstack([ids3[lower_tri_mask], \n",
    "#                                  ids2[lower_tri_mask], \n",
    "#                                  ids4[lower_tri_mask]]).T\n",
    "    return ids1, tri, pts\n"
   ]
  },
  {
   "cell_type": "code",
   "execution_count": 201,
   "metadata": {},
   "outputs": [
    {
     "name": "stdout",
     "output_type": "stream",
     "text": [
      "The line_profiler extension is already loaded. To reload it, use:\n",
      "  %reload_ext line_profiler\n",
      "267682 267519\n",
      "CPU times: user 15.4 ms, sys: 5.63 ms, total: 21.1 ms\n",
      "Wall time: 19.8 ms\n",
      "267682 267519\n"
     ]
    },
    {
     "data": {
      "text/plain": [
       "Timer unit: 1e-06 s\n",
       "\n",
       "Total time: 0.017641 s\n",
       "File: <ipython-input-200-843147d506bf>\n",
       "Function: fast_make_points at line 30\n",
       "\n",
       "Line #      Hits         Time  Per Hit   % Time  Line Contents\n",
       "==============================================================\n",
       "    30                                           def fast_make_points(depth, intr, extr=None):\n",
       "    31                                               # Depth map and intrinsic params\n",
       "    32         1          3.0      3.0      0.0      h, w = depth.shape\n",
       "    33         1          1.0      1.0      0.0      fx, fy = intr['fx'], intr['fy']\n",
       "    34         1          1.0      1.0      0.0      cx, cy = intr['cx'], intr['cx']\n",
       "    35                                               # Calculate xyz\n",
       "    36         1        344.0    344.0      2.0      non_zero = depth > 0\n",
       "    37         1       2401.0   2401.0     13.6      i, j = np.nonzero(non_zero)\n",
       "    38         1        432.0    432.0      2.4      z = depth[non_zero]\n",
       "    39         1          3.0      3.0      0.0      count_non_zero = i.shape[0]\n",
       "    40         1       1130.0   1130.0      6.4      u = (i - cx) * z / fx\n",
       "    41         1       1075.0   1075.0      6.1      v = (j - cy) * z / fy\n",
       "    42         1        731.0    731.0      4.1      pts = np.array([u, v, -z], dtype=np.float32).T\n",
       "    43                                               # Index the non-zero pixels\n",
       "    44         1        988.0    988.0      5.6      indices = np.arange(1, count_non_zero+1, 1, dtype=np.int_)\n",
       "    45         1        222.0    222.0      1.3      ids1 = np.zeros_like(depth, dtype=np.int32)\n",
       "    46         1        492.0    492.0      2.8      ids1[non_zero] = indices\n",
       "    47                                               \n",
       "    48         1        214.0    214.0      1.2      ids2 = fast_shift(ids1, num=1, fill_value=0, axis=0)\n",
       "    49                                               \n",
       "    50         1        235.0    235.0      1.3      ids3 = fast_shift(ids1, num=1, fill_value=0, axis=1)\n",
       "    51                                               \n",
       "    52         1        193.0    193.0      1.1      ids_tmp = fast_shift(ids1, num=1, fill_value=0, axis=0)\n",
       "    53         1        156.0    156.0      0.9      ids4 = fast_shift(ids_tmp, num=1, fill_value=0, axis=1)\n",
       "    54                                               \n",
       "    55                                               \n",
       "    56                                               # Construct triangles\n",
       "    57         1        273.0    273.0      1.5      mask1 = (ids1 < count_non_zero) * (ids1 > 0) \n",
       "    58         1        279.0    279.0      1.6      mask2 = (ids2 < count_non_zero) * (ids2 > 0)\n",
       "    59         1        321.0    321.0      1.8      mask3 = (ids3 < count_non_zero) * (ids3 > 0)\n",
       "    60         1        292.0    292.0      1.7      mask4 = (ids4 < count_non_zero) * (ids4 > 0)\n",
       "    61         1         84.0     84.0      0.5      upper_tri_mask = mask1 * mask2 * mask3\n",
       "    62         1        358.0    358.0      2.0      lower_tri_mask = mask2 * mask3 * mask4\n",
       "    63         1        391.0    391.0      2.2      upper_num = np.sum(upper_tri_mask)\n",
       "    64         1        382.0    382.0      2.2      lower_num = np.sum(lower_tri_mask)\n",
       "    65                                               # Collect into a single array\n",
       "    66         1         18.0     18.0      0.1      tri = np.empty((3, upper_num + lower_num), dtype=np.uint32)\n",
       "    67                                               \n",
       "    68         1        121.0    121.0      0.7      print(upper_num, lower_num)\n",
       "    69         1       1657.0   1657.0      9.4      tri[0, :upper_num]= ids1[upper_tri_mask]\n",
       "    70         1        984.0    984.0      5.6      tri[1, :upper_num]= ids2[upper_tri_mask]\n",
       "    71         1        987.0    987.0      5.6      tri[2, :upper_num]= ids3[upper_tri_mask]\n",
       "    72                                               \n",
       "    73         1        947.0    947.0      5.4      tri[0, upper_num:]= ids3[lower_tri_mask]\n",
       "    74         1        966.0    966.0      5.5      tri[1, upper_num:]= ids2[lower_tri_mask]\n",
       "    75         1        955.0    955.0      5.4      tri[2, upper_num:]= ids4[lower_tri_mask]\n",
       "    76                                               \n",
       "    77         1          4.0      4.0      0.0      tri = tri.T\n",
       "    78                                           #     tri[:upper_num] = np.vstack([ids1[upper_tri_mask], \n",
       "    79                                           #                                  ids2[upper_tri_mask], \n",
       "    80                                           #                                  ids3[upper_tri_mask]]).T\n",
       "    81                                           #     tri[upper_num:] = np.vstack([ids3[lower_tri_mask], \n",
       "    82                                           #                                  ids2[lower_tri_mask], \n",
       "    83                                           #                                  ids4[lower_tri_mask]]).T\n",
       "    84         1          1.0      1.0      0.0      return ids1, tri, pts"
      ]
     },
     "metadata": {},
     "output_type": "display_data"
    }
   ],
   "source": [
    "%load_ext line_profiler\n",
    "\n",
    "%time ids, tri, pts = fast_make_points(depth_img, camera_intrinsic_params)\n",
    "%lprun -f fast_make_points ids, tri, pts = fast_make_points(depth_img, camera_intrinsic_params)\n"
   ]
  },
  {
   "cell_type": "code",
   "execution_count": 57,
   "metadata": {},
   "outputs": [
    {
     "name": "stdout",
     "output_type": "stream",
     "text": [
      "tri:\n",
      " (array([     1,      3,      4, ..., 272922, 272923, 272924], dtype=uint32), array([1, 1, 3, ..., 3, 3, 2]))\n",
      "ids:\n",
      " (array([     0,      1,      2, ..., 272923, 272924, 272925], dtype=int32), array([95715,     1,     1, ...,     1,     1,     1]))\n",
      "pts:\n",
      " (272925, 3)\n",
      "depth_img:\n",
      " (array([   0,  653,  701, ..., 4355, 4361, 5855], dtype=uint16), array([95715,     1,     1, ...,     1,     1,     1]))\n"
     ]
    },
    {
     "data": {
      "text/plain": [
       "((535201, 3), (576, 640), 272925)"
      ]
     },
     "execution_count": 57,
     "metadata": {},
     "output_type": "execute_result"
    }
   ],
   "source": [
    "print('tri:\\n', np.unique(tri, return_counts=True))\n",
    "print('ids:\\n', np.unique(ids, return_counts=True))\n",
    "print('pts:\\n', pts.shape)\n",
    "print('depth_img:\\n', np.unique(depth_img, return_counts=True))\n",
    "tri.shape, ids.shape, np.sum((ids>0).astype(bool))"
   ]
  },
  {
   "cell_type": "code",
   "execution_count": 58,
   "metadata": {},
   "outputs": [],
   "source": [
    "o3d_mesh = o3d.geometry.TriangleMesh(o3d.utility.Vector3dVector(pts), o3d.utility.Vector3iVector(tri))"
   ]
  },
  {
   "cell_type": "code",
   "execution_count": 82,
   "metadata": {},
   "outputs": [
    {
     "data": {
      "text/plain": [
       "array([[    71,     73,     74, ..., 272923, 272924, 272925],\n",
       "       [     1,      4,      5, ..., 272568, 272569, 272570],\n",
       "       [    70,     72,     73, ..., 272922, 272923, 272924]],\n",
       "      dtype=uint32)"
      ]
     },
     "execution_count": 82,
     "metadata": {},
     "output_type": "execute_result"
    }
   ],
   "source": [
    "tri"
   ]
  },
  {
   "cell_type": "code",
   "execution_count": 13,
   "metadata": {},
   "outputs": [
    {
     "data": {
      "text/plain": [
       "PointCloud with 238765 points."
      ]
     },
     "execution_count": 13,
     "metadata": {},
     "output_type": "execute_result"
    }
   ],
   "source": [
    "pcd = o3d.io.read_point_cloud('data/depth0177.ply', print_progress=True)\n",
    "pcd"
   ]
  },
  {
   "cell_type": "code",
   "execution_count": 60,
   "metadata": {},
   "outputs": [
    {
     "data": {
      "text/plain": [
       "True"
      ]
     },
     "execution_count": 60,
     "metadata": {},
     "output_type": "execute_result"
    }
   ],
   "source": [
    "o3d.io.write_triangle_mesh('my_mesh_fast.ply', o3d_mesh)"
   ]
  },
  {
   "cell_type": "code",
   "execution_count": 64,
   "metadata": {},
   "outputs": [
    {
     "ename": "NameError",
     "evalue": "name 'trm_poisson' is not defined",
     "output_type": "error",
     "traceback": [
      "\u001b[0;31m---------------------------------------------------------------------------\u001b[0m",
      "\u001b[0;31mNameError\u001b[0m                                 Traceback (most recent call last)",
      "\u001b[0;32m<ipython-input-64-a3c65af82884>\u001b[0m in \u001b[0;36m<module>\u001b[0;34m\u001b[0m\n\u001b[0;32m----> 1\u001b[0;31m \u001b[0mo3d\u001b[0m\u001b[0;34m.\u001b[0m\u001b[0mio\u001b[0m\u001b[0;34m.\u001b[0m\u001b[0mwrite_triangle_mesh\u001b[0m\u001b[0;34m(\u001b[0m\u001b[0;34m'data/poisson_mesh.ply'\u001b[0m\u001b[0;34m,\u001b[0m \u001b[0mtrm_poisson\u001b[0m\u001b[0;34m,\u001b[0m \u001b[0mprint_progress\u001b[0m\u001b[0;34m=\u001b[0m\u001b[0;32mTrue\u001b[0m\u001b[0;34m)\u001b[0m\u001b[0;34m\u001b[0m\u001b[0;34m\u001b[0m\u001b[0m\n\u001b[0m\u001b[1;32m      2\u001b[0m \u001b[0mo3d\u001b[0m\u001b[0;34m.\u001b[0m\u001b[0mio\u001b[0m\u001b[0;34m.\u001b[0m\u001b[0mwrite_triangle_mesh\u001b[0m\u001b[0;34m(\u001b[0m\u001b[0;34m'data/ball_mesh.ply'\u001b[0m\u001b[0;34m,\u001b[0m \u001b[0mtrm_ball\u001b[0m\u001b[0;34m,\u001b[0m \u001b[0mprint_progress\u001b[0m\u001b[0;34m=\u001b[0m\u001b[0;32mTrue\u001b[0m\u001b[0;34m)\u001b[0m\u001b[0;34m\u001b[0m\u001b[0;34m\u001b[0m\u001b[0m\n",
      "\u001b[0;31mNameError\u001b[0m: name 'trm_poisson' is not defined"
     ]
    }
   ],
   "source": [
    "o3d.io.write_triangle_mesh('data/poisson_mesh.ply', trm_poisson, print_progress=True)\n",
    "o3d.io.write_triangle_mesh('data/ball_mesh.ply', trm_ball, print_progress=True)"
   ]
  },
  {
   "cell_type": "code",
   "execution_count": 44,
   "metadata": {},
   "outputs": [
    {
     "data": {
      "text/plain": [
       "DoubleVector[1, 1]"
      ]
     },
     "execution_count": 44,
     "metadata": {},
     "output_type": "execute_result"
    }
   ],
   "source": [
    "o3d.utility.DoubleVector(np.array([1., 1.]))"
   ]
  },
  {
   "cell_type": "code",
   "execution_count": null,
   "metadata": {},
   "outputs": [],
   "source": [
    "np.asarray(trm.triangles)"
   ]
  },
  {
   "cell_type": "code",
   "execution_count": null,
   "metadata": {},
   "outputs": [],
   "source": [
    "trm.compute_vertex_normals()"
   ]
  },
  {
   "cell_type": "code",
   "execution_count": null,
   "metadata": {},
   "outputs": [],
   "source": [
    "trm.compute_triangle_normals()"
   ]
  },
  {
   "cell_type": "code",
   "execution_count": null,
   "metadata": {},
   "outputs": [],
   "source": [
    "o3d.visualization.draw_geometries([trm])"
   ]
  },
  {
   "cell_type": "code",
   "execution_count": null,
   "metadata": {},
   "outputs": [],
   "source": []
  },
  {
   "cell_type": "code",
   "execution_count": null,
   "metadata": {},
   "outputs": [],
   "source": []
  },
  {
   "cell_type": "code",
   "execution_count": null,
   "metadata": {},
   "outputs": [],
   "source": []
  },
  {
   "cell_type": "code",
   "execution_count": null,
   "metadata": {},
   "outputs": [],
   "source": [
    "mesh_box = o3d.geometry.TriangleMesh.create_box(width=1.0,\n",
    "                                                height=1.0,\n",
    "                                                depth=1.0)"
   ]
  },
  {
   "cell_type": "code",
   "execution_count": null,
   "metadata": {},
   "outputs": [],
   "source": [
    "print(np.asarray(pcd.points).shape)"
   ]
  },
  {
   "cell_type": "code",
   "execution_count": 17,
   "metadata": {},
   "outputs": [
    {
     "data": {
      "text/plain": [
       "True"
      ]
     },
     "execution_count": 17,
     "metadata": {},
     "output_type": "execute_result"
    }
   ],
   "source": [
    "o3d.io.write_point_cloud('data/depth0177.ply', pcd, print_progress=True)"
   ]
  },
  {
   "cell_type": "code",
   "execution_count": null,
   "metadata": {},
   "outputs": [],
   "source": [
    "pcd.transform([[1, 0, 0, 0], [0, -1, 0, 0], [0, 0, -1, 0], [0, 0, 0, 1]])"
   ]
  },
  {
   "cell_type": "code",
   "execution_count": null,
   "metadata": {},
   "outputs": [],
   "source": [
    "o3d.visualization.draw_geometries([pcd])"
   ]
  },
  {
   "cell_type": "code",
   "execution_count": null,
   "metadata": {},
   "outputs": [],
   "source": [
    "pcd = o3d.io.read_point_cloud('data/depth0177.ply')"
   ]
  },
  {
   "cell_type": "code",
   "execution_count": null,
   "metadata": {},
   "outputs": [],
   "source": []
  }
 ],
 "metadata": {
  "kernelspec": {
   "display_name": "Python 3",
   "language": "python",
   "name": "python3"
  },
  "language_info": {
   "codemirror_mode": {
    "name": "ipython",
    "version": 3
   },
   "file_extension": ".py",
   "mimetype": "text/x-python",
   "name": "python",
   "nbconvert_exporter": "python",
   "pygments_lexer": "ipython3",
   "version": "3.8.6"
  }
 },
 "nbformat": 4,
 "nbformat_minor": 4
}
